{
  "nbformat": 4,
  "nbformat_minor": 0,
  "metadata": {
    "kernelspec": {
      "display_name": "Python 3",
      "language": "python",
      "name": "python3"
    },
    "language_info": {
      "codemirror_mode": {
        "name": "ipython",
        "version": 3
      },
      "file_extension": ".py",
      "mimetype": "text/x-python",
      "name": "python",
      "nbconvert_exporter": "python",
      "pygments_lexer": "ipython3",
      "version": "3.6.10"
    },
    "colab": {
      "name": "ai504_06_gan.ipynb",
      "provenance": [],
      "include_colab_link": true
    },
    "accelerator": "GPU",
    "widgets": {
      "application/vnd.jupyter.widget-state+json": {
        "69b826796d654003a9e615430554c559": {
          "model_module": "@jupyter-widgets/controls",
          "model_name": "HBoxModel",
          "state": {
            "_view_name": "HBoxView",
            "_dom_classes": [],
            "_model_name": "HBoxModel",
            "_view_module": "@jupyter-widgets/controls",
            "_model_module_version": "1.5.0",
            "_view_count": null,
            "_view_module_version": "1.5.0",
            "box_style": "",
            "layout": "IPY_MODEL_a1445727c04543f1b8a9ffb31345f50c",
            "_model_module": "@jupyter-widgets/controls",
            "children": [
              "IPY_MODEL_b046413f4a634cf19b303eb6586a6702",
              "IPY_MODEL_0190456b8e584fb88f9ebcd43fe68af4"
            ]
          }
        },
        "a1445727c04543f1b8a9ffb31345f50c": {
          "model_module": "@jupyter-widgets/base",
          "model_name": "LayoutModel",
          "state": {
            "_view_name": "LayoutView",
            "grid_template_rows": null,
            "right": null,
            "justify_content": null,
            "_view_module": "@jupyter-widgets/base",
            "overflow": null,
            "_model_module_version": "1.2.0",
            "_view_count": null,
            "flex_flow": null,
            "width": null,
            "min_width": null,
            "border": null,
            "align_items": null,
            "bottom": null,
            "_model_module": "@jupyter-widgets/base",
            "top": null,
            "grid_column": null,
            "overflow_y": null,
            "overflow_x": null,
            "grid_auto_flow": null,
            "grid_area": null,
            "grid_template_columns": null,
            "flex": null,
            "_model_name": "LayoutModel",
            "justify_items": null,
            "grid_row": null,
            "max_height": null,
            "align_content": null,
            "visibility": null,
            "align_self": null,
            "height": null,
            "min_height": null,
            "padding": null,
            "grid_auto_rows": null,
            "grid_gap": null,
            "max_width": null,
            "order": null,
            "_view_module_version": "1.2.0",
            "grid_template_areas": null,
            "object_position": null,
            "object_fit": null,
            "grid_auto_columns": null,
            "margin": null,
            "display": null,
            "left": null
          }
        },
        "b046413f4a634cf19b303eb6586a6702": {
          "model_module": "@jupyter-widgets/controls",
          "model_name": "FloatProgressModel",
          "state": {
            "_view_name": "ProgressView",
            "style": "IPY_MODEL_1f8fa913f33a406bb4ec20ea30f78d96",
            "_dom_classes": [],
            "description": "",
            "_model_name": "FloatProgressModel",
            "bar_style": "info",
            "max": 1,
            "_view_module": "@jupyter-widgets/controls",
            "_model_module_version": "1.5.0",
            "value": 1,
            "_view_count": null,
            "_view_module_version": "1.5.0",
            "orientation": "horizontal",
            "min": 0,
            "description_tooltip": null,
            "_model_module": "@jupyter-widgets/controls",
            "layout": "IPY_MODEL_ff36621fe90140298cd4c0a9c2cc1ffb"
          }
        },
        "0190456b8e584fb88f9ebcd43fe68af4": {
          "model_module": "@jupyter-widgets/controls",
          "model_name": "HTMLModel",
          "state": {
            "_view_name": "HTMLView",
            "style": "IPY_MODEL_ee4a5be1dd9f4e5b884d18e3ac006ae1",
            "_dom_classes": [],
            "description": "",
            "_model_name": "HTMLModel",
            "placeholder": "​",
            "_view_module": "@jupyter-widgets/controls",
            "_model_module_version": "1.5.0",
            "value": " 9920512/? [00:20&lt;00:00, 602223.39it/s]",
            "_view_count": null,
            "_view_module_version": "1.5.0",
            "description_tooltip": null,
            "_model_module": "@jupyter-widgets/controls",
            "layout": "IPY_MODEL_4c0466547d3941dd8b9bd81e399ce1cf"
          }
        },
        "1f8fa913f33a406bb4ec20ea30f78d96": {
          "model_module": "@jupyter-widgets/controls",
          "model_name": "ProgressStyleModel",
          "state": {
            "_view_name": "StyleView",
            "_model_name": "ProgressStyleModel",
            "description_width": "initial",
            "_view_module": "@jupyter-widgets/base",
            "_model_module_version": "1.5.0",
            "_view_count": null,
            "_view_module_version": "1.2.0",
            "bar_color": null,
            "_model_module": "@jupyter-widgets/controls"
          }
        },
        "ff36621fe90140298cd4c0a9c2cc1ffb": {
          "model_module": "@jupyter-widgets/base",
          "model_name": "LayoutModel",
          "state": {
            "_view_name": "LayoutView",
            "grid_template_rows": null,
            "right": null,
            "justify_content": null,
            "_view_module": "@jupyter-widgets/base",
            "overflow": null,
            "_model_module_version": "1.2.0",
            "_view_count": null,
            "flex_flow": null,
            "width": null,
            "min_width": null,
            "border": null,
            "align_items": null,
            "bottom": null,
            "_model_module": "@jupyter-widgets/base",
            "top": null,
            "grid_column": null,
            "overflow_y": null,
            "overflow_x": null,
            "grid_auto_flow": null,
            "grid_area": null,
            "grid_template_columns": null,
            "flex": null,
            "_model_name": "LayoutModel",
            "justify_items": null,
            "grid_row": null,
            "max_height": null,
            "align_content": null,
            "visibility": null,
            "align_self": null,
            "height": null,
            "min_height": null,
            "padding": null,
            "grid_auto_rows": null,
            "grid_gap": null,
            "max_width": null,
            "order": null,
            "_view_module_version": "1.2.0",
            "grid_template_areas": null,
            "object_position": null,
            "object_fit": null,
            "grid_auto_columns": null,
            "margin": null,
            "display": null,
            "left": null
          }
        },
        "ee4a5be1dd9f4e5b884d18e3ac006ae1": {
          "model_module": "@jupyter-widgets/controls",
          "model_name": "DescriptionStyleModel",
          "state": {
            "_view_name": "StyleView",
            "_model_name": "DescriptionStyleModel",
            "description_width": "",
            "_view_module": "@jupyter-widgets/base",
            "_model_module_version": "1.5.0",
            "_view_count": null,
            "_view_module_version": "1.2.0",
            "_model_module": "@jupyter-widgets/controls"
          }
        },
        "4c0466547d3941dd8b9bd81e399ce1cf": {
          "model_module": "@jupyter-widgets/base",
          "model_name": "LayoutModel",
          "state": {
            "_view_name": "LayoutView",
            "grid_template_rows": null,
            "right": null,
            "justify_content": null,
            "_view_module": "@jupyter-widgets/base",
            "overflow": null,
            "_model_module_version": "1.2.0",
            "_view_count": null,
            "flex_flow": null,
            "width": null,
            "min_width": null,
            "border": null,
            "align_items": null,
            "bottom": null,
            "_model_module": "@jupyter-widgets/base",
            "top": null,
            "grid_column": null,
            "overflow_y": null,
            "overflow_x": null,
            "grid_auto_flow": null,
            "grid_area": null,
            "grid_template_columns": null,
            "flex": null,
            "_model_name": "LayoutModel",
            "justify_items": null,
            "grid_row": null,
            "max_height": null,
            "align_content": null,
            "visibility": null,
            "align_self": null,
            "height": null,
            "min_height": null,
            "padding": null,
            "grid_auto_rows": null,
            "grid_gap": null,
            "max_width": null,
            "order": null,
            "_view_module_version": "1.2.0",
            "grid_template_areas": null,
            "object_position": null,
            "object_fit": null,
            "grid_auto_columns": null,
            "margin": null,
            "display": null,
            "left": null
          }
        },
        "ec5e96bb35fc4589abe24a7c34df86ad": {
          "model_module": "@jupyter-widgets/controls",
          "model_name": "HBoxModel",
          "state": {
            "_view_name": "HBoxView",
            "_dom_classes": [],
            "_model_name": "HBoxModel",
            "_view_module": "@jupyter-widgets/controls",
            "_model_module_version": "1.5.0",
            "_view_count": null,
            "_view_module_version": "1.5.0",
            "box_style": "",
            "layout": "IPY_MODEL_6685f5e6c28245e08ea9306c3997cea3",
            "_model_module": "@jupyter-widgets/controls",
            "children": [
              "IPY_MODEL_a117ef1e526b42ac8cd7c5ca19f1ca44",
              "IPY_MODEL_0d9a1853ccb14d04a39592edf44dbd1d"
            ]
          }
        },
        "6685f5e6c28245e08ea9306c3997cea3": {
          "model_module": "@jupyter-widgets/base",
          "model_name": "LayoutModel",
          "state": {
            "_view_name": "LayoutView",
            "grid_template_rows": null,
            "right": null,
            "justify_content": null,
            "_view_module": "@jupyter-widgets/base",
            "overflow": null,
            "_model_module_version": "1.2.0",
            "_view_count": null,
            "flex_flow": null,
            "width": null,
            "min_width": null,
            "border": null,
            "align_items": null,
            "bottom": null,
            "_model_module": "@jupyter-widgets/base",
            "top": null,
            "grid_column": null,
            "overflow_y": null,
            "overflow_x": null,
            "grid_auto_flow": null,
            "grid_area": null,
            "grid_template_columns": null,
            "flex": null,
            "_model_name": "LayoutModel",
            "justify_items": null,
            "grid_row": null,
            "max_height": null,
            "align_content": null,
            "visibility": null,
            "align_self": null,
            "height": null,
            "min_height": null,
            "padding": null,
            "grid_auto_rows": null,
            "grid_gap": null,
            "max_width": null,
            "order": null,
            "_view_module_version": "1.2.0",
            "grid_template_areas": null,
            "object_position": null,
            "object_fit": null,
            "grid_auto_columns": null,
            "margin": null,
            "display": null,
            "left": null
          }
        },
        "a117ef1e526b42ac8cd7c5ca19f1ca44": {
          "model_module": "@jupyter-widgets/controls",
          "model_name": "FloatProgressModel",
          "state": {
            "_view_name": "ProgressView",
            "style": "IPY_MODEL_631f175fca6446d687680b95fca9fe06",
            "_dom_classes": [],
            "description": "",
            "_model_name": "FloatProgressModel",
            "bar_style": "success",
            "max": 1,
            "_view_module": "@jupyter-widgets/controls",
            "_model_module_version": "1.5.0",
            "value": 1,
            "_view_count": null,
            "_view_module_version": "1.5.0",
            "orientation": "horizontal",
            "min": 0,
            "description_tooltip": null,
            "_model_module": "@jupyter-widgets/controls",
            "layout": "IPY_MODEL_da331d99f5b6457f86994638ba7a5b45"
          }
        },
        "0d9a1853ccb14d04a39592edf44dbd1d": {
          "model_module": "@jupyter-widgets/controls",
          "model_name": "HTMLModel",
          "state": {
            "_view_name": "HTMLView",
            "style": "IPY_MODEL_f91f8dd1570e418da44210acb6df851a",
            "_dom_classes": [],
            "description": "",
            "_model_name": "HTMLModel",
            "placeholder": "​",
            "_view_module": "@jupyter-widgets/controls",
            "_model_module_version": "1.5.0",
            "value": " 32768/? [00:01&lt;00:00, 29169.68it/s]",
            "_view_count": null,
            "_view_module_version": "1.5.0",
            "description_tooltip": null,
            "_model_module": "@jupyter-widgets/controls",
            "layout": "IPY_MODEL_82a5557c260940d5a2a4f777762a1b42"
          }
        },
        "631f175fca6446d687680b95fca9fe06": {
          "model_module": "@jupyter-widgets/controls",
          "model_name": "ProgressStyleModel",
          "state": {
            "_view_name": "StyleView",
            "_model_name": "ProgressStyleModel",
            "description_width": "initial",
            "_view_module": "@jupyter-widgets/base",
            "_model_module_version": "1.5.0",
            "_view_count": null,
            "_view_module_version": "1.2.0",
            "bar_color": null,
            "_model_module": "@jupyter-widgets/controls"
          }
        },
        "da331d99f5b6457f86994638ba7a5b45": {
          "model_module": "@jupyter-widgets/base",
          "model_name": "LayoutModel",
          "state": {
            "_view_name": "LayoutView",
            "grid_template_rows": null,
            "right": null,
            "justify_content": null,
            "_view_module": "@jupyter-widgets/base",
            "overflow": null,
            "_model_module_version": "1.2.0",
            "_view_count": null,
            "flex_flow": null,
            "width": null,
            "min_width": null,
            "border": null,
            "align_items": null,
            "bottom": null,
            "_model_module": "@jupyter-widgets/base",
            "top": null,
            "grid_column": null,
            "overflow_y": null,
            "overflow_x": null,
            "grid_auto_flow": null,
            "grid_area": null,
            "grid_template_columns": null,
            "flex": null,
            "_model_name": "LayoutModel",
            "justify_items": null,
            "grid_row": null,
            "max_height": null,
            "align_content": null,
            "visibility": null,
            "align_self": null,
            "height": null,
            "min_height": null,
            "padding": null,
            "grid_auto_rows": null,
            "grid_gap": null,
            "max_width": null,
            "order": null,
            "_view_module_version": "1.2.0",
            "grid_template_areas": null,
            "object_position": null,
            "object_fit": null,
            "grid_auto_columns": null,
            "margin": null,
            "display": null,
            "left": null
          }
        },
        "f91f8dd1570e418da44210acb6df851a": {
          "model_module": "@jupyter-widgets/controls",
          "model_name": "DescriptionStyleModel",
          "state": {
            "_view_name": "StyleView",
            "_model_name": "DescriptionStyleModel",
            "description_width": "",
            "_view_module": "@jupyter-widgets/base",
            "_model_module_version": "1.5.0",
            "_view_count": null,
            "_view_module_version": "1.2.0",
            "_model_module": "@jupyter-widgets/controls"
          }
        },
        "82a5557c260940d5a2a4f777762a1b42": {
          "model_module": "@jupyter-widgets/base",
          "model_name": "LayoutModel",
          "state": {
            "_view_name": "LayoutView",
            "grid_template_rows": null,
            "right": null,
            "justify_content": null,
            "_view_module": "@jupyter-widgets/base",
            "overflow": null,
            "_model_module_version": "1.2.0",
            "_view_count": null,
            "flex_flow": null,
            "width": null,
            "min_width": null,
            "border": null,
            "align_items": null,
            "bottom": null,
            "_model_module": "@jupyter-widgets/base",
            "top": null,
            "grid_column": null,
            "overflow_y": null,
            "overflow_x": null,
            "grid_auto_flow": null,
            "grid_area": null,
            "grid_template_columns": null,
            "flex": null,
            "_model_name": "LayoutModel",
            "justify_items": null,
            "grid_row": null,
            "max_height": null,
            "align_content": null,
            "visibility": null,
            "align_self": null,
            "height": null,
            "min_height": null,
            "padding": null,
            "grid_auto_rows": null,
            "grid_gap": null,
            "max_width": null,
            "order": null,
            "_view_module_version": "1.2.0",
            "grid_template_areas": null,
            "object_position": null,
            "object_fit": null,
            "grid_auto_columns": null,
            "margin": null,
            "display": null,
            "left": null
          }
        },
        "e4527f6df75f45a59e553d182f2fe70a": {
          "model_module": "@jupyter-widgets/controls",
          "model_name": "HBoxModel",
          "state": {
            "_view_name": "HBoxView",
            "_dom_classes": [],
            "_model_name": "HBoxModel",
            "_view_module": "@jupyter-widgets/controls",
            "_model_module_version": "1.5.0",
            "_view_count": null,
            "_view_module_version": "1.5.0",
            "box_style": "",
            "layout": "IPY_MODEL_047d3824377441359f6f495b19b71d70",
            "_model_module": "@jupyter-widgets/controls",
            "children": [
              "IPY_MODEL_daa853ae07d046a7b1c646e38feb69ac",
              "IPY_MODEL_74ad03721eaf4980acda48b8ea8507f6"
            ]
          }
        },
        "047d3824377441359f6f495b19b71d70": {
          "model_module": "@jupyter-widgets/base",
          "model_name": "LayoutModel",
          "state": {
            "_view_name": "LayoutView",
            "grid_template_rows": null,
            "right": null,
            "justify_content": null,
            "_view_module": "@jupyter-widgets/base",
            "overflow": null,
            "_model_module_version": "1.2.0",
            "_view_count": null,
            "flex_flow": null,
            "width": null,
            "min_width": null,
            "border": null,
            "align_items": null,
            "bottom": null,
            "_model_module": "@jupyter-widgets/base",
            "top": null,
            "grid_column": null,
            "overflow_y": null,
            "overflow_x": null,
            "grid_auto_flow": null,
            "grid_area": null,
            "grid_template_columns": null,
            "flex": null,
            "_model_name": "LayoutModel",
            "justify_items": null,
            "grid_row": null,
            "max_height": null,
            "align_content": null,
            "visibility": null,
            "align_self": null,
            "height": null,
            "min_height": null,
            "padding": null,
            "grid_auto_rows": null,
            "grid_gap": null,
            "max_width": null,
            "order": null,
            "_view_module_version": "1.2.0",
            "grid_template_areas": null,
            "object_position": null,
            "object_fit": null,
            "grid_auto_columns": null,
            "margin": null,
            "display": null,
            "left": null
          }
        },
        "daa853ae07d046a7b1c646e38feb69ac": {
          "model_module": "@jupyter-widgets/controls",
          "model_name": "FloatProgressModel",
          "state": {
            "_view_name": "ProgressView",
            "style": "IPY_MODEL_e1c66f61d1a94c3ba95b5a9bc12699c6",
            "_dom_classes": [],
            "description": "",
            "_model_name": "FloatProgressModel",
            "bar_style": "success",
            "max": 1,
            "_view_module": "@jupyter-widgets/controls",
            "_model_module_version": "1.5.0",
            "value": 1,
            "_view_count": null,
            "_view_module_version": "1.5.0",
            "orientation": "horizontal",
            "min": 0,
            "description_tooltip": null,
            "_model_module": "@jupyter-widgets/controls",
            "layout": "IPY_MODEL_18f0e5f079604422b571310d15f91c0f"
          }
        },
        "74ad03721eaf4980acda48b8ea8507f6": {
          "model_module": "@jupyter-widgets/controls",
          "model_name": "HTMLModel",
          "state": {
            "_view_name": "HTMLView",
            "style": "IPY_MODEL_fa2261edf4f7497989168054a0315012",
            "_dom_classes": [],
            "description": "",
            "_model_name": "HTMLModel",
            "placeholder": "​",
            "_view_module": "@jupyter-widgets/controls",
            "_model_module_version": "1.5.0",
            "value": " 1654784/? [00:00&lt;00:00, 1996149.34it/s]",
            "_view_count": null,
            "_view_module_version": "1.5.0",
            "description_tooltip": null,
            "_model_module": "@jupyter-widgets/controls",
            "layout": "IPY_MODEL_dba4ba9ec3074a9980e3987971953add"
          }
        },
        "e1c66f61d1a94c3ba95b5a9bc12699c6": {
          "model_module": "@jupyter-widgets/controls",
          "model_name": "ProgressStyleModel",
          "state": {
            "_view_name": "StyleView",
            "_model_name": "ProgressStyleModel",
            "description_width": "initial",
            "_view_module": "@jupyter-widgets/base",
            "_model_module_version": "1.5.0",
            "_view_count": null,
            "_view_module_version": "1.2.0",
            "bar_color": null,
            "_model_module": "@jupyter-widgets/controls"
          }
        },
        "18f0e5f079604422b571310d15f91c0f": {
          "model_module": "@jupyter-widgets/base",
          "model_name": "LayoutModel",
          "state": {
            "_view_name": "LayoutView",
            "grid_template_rows": null,
            "right": null,
            "justify_content": null,
            "_view_module": "@jupyter-widgets/base",
            "overflow": null,
            "_model_module_version": "1.2.0",
            "_view_count": null,
            "flex_flow": null,
            "width": null,
            "min_width": null,
            "border": null,
            "align_items": null,
            "bottom": null,
            "_model_module": "@jupyter-widgets/base",
            "top": null,
            "grid_column": null,
            "overflow_y": null,
            "overflow_x": null,
            "grid_auto_flow": null,
            "grid_area": null,
            "grid_template_columns": null,
            "flex": null,
            "_model_name": "LayoutModel",
            "justify_items": null,
            "grid_row": null,
            "max_height": null,
            "align_content": null,
            "visibility": null,
            "align_self": null,
            "height": null,
            "min_height": null,
            "padding": null,
            "grid_auto_rows": null,
            "grid_gap": null,
            "max_width": null,
            "order": null,
            "_view_module_version": "1.2.0",
            "grid_template_areas": null,
            "object_position": null,
            "object_fit": null,
            "grid_auto_columns": null,
            "margin": null,
            "display": null,
            "left": null
          }
        },
        "fa2261edf4f7497989168054a0315012": {
          "model_module": "@jupyter-widgets/controls",
          "model_name": "DescriptionStyleModel",
          "state": {
            "_view_name": "StyleView",
            "_model_name": "DescriptionStyleModel",
            "description_width": "",
            "_view_module": "@jupyter-widgets/base",
            "_model_module_version": "1.5.0",
            "_view_count": null,
            "_view_module_version": "1.2.0",
            "_model_module": "@jupyter-widgets/controls"
          }
        },
        "dba4ba9ec3074a9980e3987971953add": {
          "model_module": "@jupyter-widgets/base",
          "model_name": "LayoutModel",
          "state": {
            "_view_name": "LayoutView",
            "grid_template_rows": null,
            "right": null,
            "justify_content": null,
            "_view_module": "@jupyter-widgets/base",
            "overflow": null,
            "_model_module_version": "1.2.0",
            "_view_count": null,
            "flex_flow": null,
            "width": null,
            "min_width": null,
            "border": null,
            "align_items": null,
            "bottom": null,
            "_model_module": "@jupyter-widgets/base",
            "top": null,
            "grid_column": null,
            "overflow_y": null,
            "overflow_x": null,
            "grid_auto_flow": null,
            "grid_area": null,
            "grid_template_columns": null,
            "flex": null,
            "_model_name": "LayoutModel",
            "justify_items": null,
            "grid_row": null,
            "max_height": null,
            "align_content": null,
            "visibility": null,
            "align_self": null,
            "height": null,
            "min_height": null,
            "padding": null,
            "grid_auto_rows": null,
            "grid_gap": null,
            "max_width": null,
            "order": null,
            "_view_module_version": "1.2.0",
            "grid_template_areas": null,
            "object_position": null,
            "object_fit": null,
            "grid_auto_columns": null,
            "margin": null,
            "display": null,
            "left": null
          }
        },
        "62083a227e63457f996dbc62ad195a57": {
          "model_module": "@jupyter-widgets/controls",
          "model_name": "HBoxModel",
          "state": {
            "_view_name": "HBoxView",
            "_dom_classes": [],
            "_model_name": "HBoxModel",
            "_view_module": "@jupyter-widgets/controls",
            "_model_module_version": "1.5.0",
            "_view_count": null,
            "_view_module_version": "1.5.0",
            "box_style": "",
            "layout": "IPY_MODEL_7da4d83c0d8f4907bf90ad67b82bc7b8",
            "_model_module": "@jupyter-widgets/controls",
            "children": [
              "IPY_MODEL_af97ecf25cf2409cbadd98b523cf0e0f",
              "IPY_MODEL_4c27d016018143009c6b7fb0e37de8b9"
            ]
          }
        },
        "7da4d83c0d8f4907bf90ad67b82bc7b8": {
          "model_module": "@jupyter-widgets/base",
          "model_name": "LayoutModel",
          "state": {
            "_view_name": "LayoutView",
            "grid_template_rows": null,
            "right": null,
            "justify_content": null,
            "_view_module": "@jupyter-widgets/base",
            "overflow": null,
            "_model_module_version": "1.2.0",
            "_view_count": null,
            "flex_flow": null,
            "width": null,
            "min_width": null,
            "border": null,
            "align_items": null,
            "bottom": null,
            "_model_module": "@jupyter-widgets/base",
            "top": null,
            "grid_column": null,
            "overflow_y": null,
            "overflow_x": null,
            "grid_auto_flow": null,
            "grid_area": null,
            "grid_template_columns": null,
            "flex": null,
            "_model_name": "LayoutModel",
            "justify_items": null,
            "grid_row": null,
            "max_height": null,
            "align_content": null,
            "visibility": null,
            "align_self": null,
            "height": null,
            "min_height": null,
            "padding": null,
            "grid_auto_rows": null,
            "grid_gap": null,
            "max_width": null,
            "order": null,
            "_view_module_version": "1.2.0",
            "grid_template_areas": null,
            "object_position": null,
            "object_fit": null,
            "grid_auto_columns": null,
            "margin": null,
            "display": null,
            "left": null
          }
        },
        "af97ecf25cf2409cbadd98b523cf0e0f": {
          "model_module": "@jupyter-widgets/controls",
          "model_name": "FloatProgressModel",
          "state": {
            "_view_name": "ProgressView",
            "style": "IPY_MODEL_6423538ed563454084f3269bc1b61c28",
            "_dom_classes": [],
            "description": "  0%",
            "_model_name": "FloatProgressModel",
            "bar_style": "info",
            "max": 1,
            "_view_module": "@jupyter-widgets/controls",
            "_model_module_version": "1.5.0",
            "value": 0,
            "_view_count": null,
            "_view_module_version": "1.5.0",
            "orientation": "horizontal",
            "min": 0,
            "description_tooltip": null,
            "_model_module": "@jupyter-widgets/controls",
            "layout": "IPY_MODEL_d16585353f10412bb406051ff3d4cff3"
          }
        },
        "4c27d016018143009c6b7fb0e37de8b9": {
          "model_module": "@jupyter-widgets/controls",
          "model_name": "HTMLModel",
          "state": {
            "_view_name": "HTMLView",
            "style": "IPY_MODEL_602f17978e2846888460b010fb8c40ea",
            "_dom_classes": [],
            "description": "",
            "_model_name": "HTMLModel",
            "placeholder": "​",
            "_view_module": "@jupyter-widgets/controls",
            "_model_module_version": "1.5.0",
            "value": " 0/4542 [00:00&lt;?, ?it/s]",
            "_view_count": null,
            "_view_module_version": "1.5.0",
            "description_tooltip": null,
            "_model_module": "@jupyter-widgets/controls",
            "layout": "IPY_MODEL_455afb93ee18436c9b8ca84a1f914d18"
          }
        },
        "6423538ed563454084f3269bc1b61c28": {
          "model_module": "@jupyter-widgets/controls",
          "model_name": "ProgressStyleModel",
          "state": {
            "_view_name": "StyleView",
            "_model_name": "ProgressStyleModel",
            "description_width": "initial",
            "_view_module": "@jupyter-widgets/base",
            "_model_module_version": "1.5.0",
            "_view_count": null,
            "_view_module_version": "1.2.0",
            "bar_color": null,
            "_model_module": "@jupyter-widgets/controls"
          }
        },
        "d16585353f10412bb406051ff3d4cff3": {
          "model_module": "@jupyter-widgets/base",
          "model_name": "LayoutModel",
          "state": {
            "_view_name": "LayoutView",
            "grid_template_rows": null,
            "right": null,
            "justify_content": null,
            "_view_module": "@jupyter-widgets/base",
            "overflow": null,
            "_model_module_version": "1.2.0",
            "_view_count": null,
            "flex_flow": null,
            "width": null,
            "min_width": null,
            "border": null,
            "align_items": null,
            "bottom": null,
            "_model_module": "@jupyter-widgets/base",
            "top": null,
            "grid_column": null,
            "overflow_y": null,
            "overflow_x": null,
            "grid_auto_flow": null,
            "grid_area": null,
            "grid_template_columns": null,
            "flex": null,
            "_model_name": "LayoutModel",
            "justify_items": null,
            "grid_row": null,
            "max_height": null,
            "align_content": null,
            "visibility": null,
            "align_self": null,
            "height": null,
            "min_height": null,
            "padding": null,
            "grid_auto_rows": null,
            "grid_gap": null,
            "max_width": null,
            "order": null,
            "_view_module_version": "1.2.0",
            "grid_template_areas": null,
            "object_position": null,
            "object_fit": null,
            "grid_auto_columns": null,
            "margin": null,
            "display": null,
            "left": null
          }
        },
        "602f17978e2846888460b010fb8c40ea": {
          "model_module": "@jupyter-widgets/controls",
          "model_name": "DescriptionStyleModel",
          "state": {
            "_view_name": "StyleView",
            "_model_name": "DescriptionStyleModel",
            "description_width": "",
            "_view_module": "@jupyter-widgets/base",
            "_model_module_version": "1.5.0",
            "_view_count": null,
            "_view_module_version": "1.2.0",
            "_model_module": "@jupyter-widgets/controls"
          }
        },
        "455afb93ee18436c9b8ca84a1f914d18": {
          "model_module": "@jupyter-widgets/base",
          "model_name": "LayoutModel",
          "state": {
            "_view_name": "LayoutView",
            "grid_template_rows": null,
            "right": null,
            "justify_content": null,
            "_view_module": "@jupyter-widgets/base",
            "overflow": null,
            "_model_module_version": "1.2.0",
            "_view_count": null,
            "flex_flow": null,
            "width": null,
            "min_width": null,
            "border": null,
            "align_items": null,
            "bottom": null,
            "_model_module": "@jupyter-widgets/base",
            "top": null,
            "grid_column": null,
            "overflow_y": null,
            "overflow_x": null,
            "grid_auto_flow": null,
            "grid_area": null,
            "grid_template_columns": null,
            "flex": null,
            "_model_name": "LayoutModel",
            "justify_items": null,
            "grid_row": null,
            "max_height": null,
            "align_content": null,
            "visibility": null,
            "align_self": null,
            "height": null,
            "min_height": null,
            "padding": null,
            "grid_auto_rows": null,
            "grid_gap": null,
            "max_width": null,
            "order": null,
            "_view_module_version": "1.2.0",
            "grid_template_areas": null,
            "object_position": null,
            "object_fit": null,
            "grid_auto_columns": null,
            "margin": null,
            "display": null,
            "left": null
          }
        }
      }
    }
  },
  "cells": [
    {
      "cell_type": "markdown",
      "metadata": {
        "id": "view-in-github",
        "colab_type": "text"
      },
      "source": [
        "<a href=\"https://colab.research.google.com/github/wnsdud3838/repo_zoon/blob/HW/ai504_06_gan.ipynb\" target=\"_parent\"><img src=\"https://colab.research.google.com/assets/colab-badge.svg\" alt=\"Open In Colab\"/></a>"
      ]
    },
    {
      "cell_type": "markdown",
      "metadata": {
        "id": "lQyIDA7ALmg9"
      },
      "source": [
        "![picture](https://drive.google.com/uc?id=1vC0N3Obk4HZJk9JOG7fKgYE10YYlCqsg)"
      ]
    },
    {
      "cell_type": "markdown",
      "metadata": {
        "id": "IHzUjHMGLmg_"
      },
      "source": [
        "# Week 6: Generative adversarial network (GAN) "
      ]
    },
    {
      "cell_type": "markdown",
      "metadata": {
        "id": "EzqFBNyoLmg_"
      },
      "source": [
        "- We will cover basic concepts of GAN & implement vanilla GAN \\[[Goodfellow et al., NIPS 2014](https://papers.nips.cc/paper/5423-generative-adversarial-nets.pdf)\\]\n",
        "- We will give basic skeletone code which include (1) training structure (2) sample visualization (3) FID evaluation\n",
        "- You should implement (1) ***generator & discriminator architecture*** (2) ***noise sampling***  (3) ***GAN loss*** \n",
        "- Additionally, will give you [DCGAN](https://arxiv.org/abs/1511.06434) (basic GAN architecture) code that you can enjoy by your-self \n",
        "\n",
        "If you have any questions, feel free to ask\n",
        "- For additional questions, send emails to jihoontack@kaist.ac.kr"
      ]
    },
    {
      "cell_type": "markdown",
      "metadata": {
        "id": "LQjl4E4NLmhA"
      },
      "source": [
        "## 0. Preliminary"
      ]
    },
    {
      "cell_type": "markdown",
      "metadata": {
        "id": "BzV1nhTBLmhB"
      },
      "source": [
        "### 0.1. Prelim step 1: Load packages & GPU setup"
      ]
    },
    {
      "cell_type": "code",
      "metadata": {
        "id": "2nh7Z0NXLmhC",
        "colab": {
          "base_uri": "https://localhost:8080/",
          "height": 377
        },
        "outputId": "e7d854fc-08cc-4b4c-f553-445d6bc3deb5"
      },
      "source": [
        "# visualize current GPU usages in your server\n",
        "!nvidia-smi "
      ],
      "execution_count": null,
      "outputs": [
        {
          "output_type": "stream",
          "text": [
            "Sun Oct 25 10:18:34 2020       \n",
            "+-----------------------------------------------------------------------------+\n",
            "| NVIDIA-SMI 455.23.05    Driver Version: 418.67       CUDA Version: 10.1     |\n",
            "|-------------------------------+----------------------+----------------------+\n",
            "| GPU  Name        Persistence-M| Bus-Id        Disp.A | Volatile Uncorr. ECC |\n",
            "| Fan  Temp  Perf  Pwr:Usage/Cap|         Memory-Usage | GPU-Util  Compute M. |\n",
            "|                               |                      |               MIG M. |\n",
            "|===============================+======================+======================|\n",
            "|   0  Tesla V100-SXM2...  Off  | 00000000:00:04.0 Off |                    0 |\n",
            "| N/A   35C    P0    24W / 300W |      0MiB / 16130MiB |      0%      Default |\n",
            "|                               |                      |                 ERR! |\n",
            "+-------------------------------+----------------------+----------------------+\n",
            "                                                                               \n",
            "+-----------------------------------------------------------------------------+\n",
            "| Processes:                                                                  |\n",
            "|  GPU   GI   CI        PID   Type   Process name                  GPU Memory |\n",
            "|        ID   ID                                                   Usage      |\n",
            "|=============================================================================|\n",
            "|  No running processes found                                                 |\n",
            "+-----------------------------------------------------------------------------+\n"
          ],
          "name": "stdout"
        }
      ]
    },
    {
      "cell_type": "code",
      "metadata": {
        "id": "8koAvdMxLmhF"
      },
      "source": [
        "# set gpu by number \n",
        "import os\n",
        "import random\n",
        "os.environ['CUDA_VISIBLE_DEVICES'] = '0'  # setting gpu number"
      ],
      "execution_count": null,
      "outputs": []
    },
    {
      "cell_type": "code",
      "metadata": {
        "id": "dwffDIoQLmhJ"
      },
      "source": [
        "# load packages\n",
        "import numpy as np\n",
        "import matplotlib.pyplot as plt\n",
        "import matplotlib.animation as animation\n",
        "import imageio #### install with \"pip install imageio\"\n",
        "from IPython.display import HTML\n",
        "\n",
        "import torch\n",
        "import torch.nn as nn\n",
        "import torch.nn.parallel\n",
        "import torch.backends.cudnn as cudnn\n",
        "import torch.optim as optim\n",
        "import torch.utils.data\n",
        "import torchvision.datasets as dset\n",
        "import torchvision.transforms as transforms\n",
        "import torchvision.utils as vutils\n",
        "from torchvision.utils import make_grid"
      ],
      "execution_count": null,
      "outputs": []
    },
    {
      "cell_type": "code",
      "metadata": {
        "id": "dEIjWHhtLmhM"
      },
      "source": [
        "# Create folders\n",
        "if not os.path.exists('./checkpoint'):\n",
        "    os.mkdir('./checkpoint')\n",
        "    \n",
        "if not os.path.exists('./dataset'):\n",
        "    os.mkdir('./dataset')\n",
        "    \n",
        "if not os.path.exists('./img'):\n",
        "    os.mkdir('./img')\n",
        "    \n",
        "if not os.path.exists('./img/real'):\n",
        "    os.mkdir('./img/real')\n",
        "\n",
        "if not os.path.exists('./img/fake'):\n",
        "    os.mkdir('./img/fake')"
      ],
      "execution_count": null,
      "outputs": []
    },
    {
      "cell_type": "markdown",
      "metadata": {
        "id": "z1ymOrs6LmhQ"
      },
      "source": [
        "### 0.2. Prelim step 2: Define visualization & image saving code"
      ]
    },
    {
      "cell_type": "code",
      "metadata": {
        "id": "33FTIWb4LmhQ"
      },
      "source": [
        "# visualize the first image from the torch tensor\n",
        "def vis_image(image):\n",
        "    plt.imshow(image[0].detach().cpu().numpy(),cmap='gray')\n",
        "    plt.show()"
      ],
      "execution_count": null,
      "outputs": []
    },
    {
      "cell_type": "code",
      "metadata": {
        "id": "wYYGfo1oLmhU"
      },
      "source": [
        "def save_gif(training_progress_images, images):\n",
        "    '''\n",
        "        training_progress_images: list of training images generated each iteration\n",
        "        images: image that is generated in this iteration\n",
        "    '''\n",
        "    img_grid = make_grid(images.data)\n",
        "    img_grid = np.transpose(img_grid.detach().cpu().numpy(), (1, 2, 0))\n",
        "    img_grid = 255. * img_grid \n",
        "    img_grid = img_grid.astype(np.uint8)\n",
        "    training_progress_images.append(img_grid)\n",
        "    imageio.mimsave('./img/training_progress.gif', training_progress_images)\n",
        "    return training_progress_images"
      ],
      "execution_count": null,
      "outputs": []
    },
    {
      "cell_type": "code",
      "metadata": {
        "id": "6vB6TDoVLmhX"
      },
      "source": [
        "# visualize gif file\n",
        "def vis_gif(training_progress_images):\n",
        "    fig = plt.figure()\n",
        "    \n",
        "    ims = []\n",
        "    for i in range(len(training_progress_images)):\n",
        "        im = plt.imshow(training_progress_images[i], animated=True)\n",
        "        ims.append([im])\n",
        "\n",
        "    ani = animation.ArtistAnimation(fig, ims, interval=50, blit=True, repeat_delay=1000)\n",
        "    \n",
        "    html = ani.to_html5_video()\n",
        "    HTML(html)"
      ],
      "execution_count": null,
      "outputs": []
    },
    {
      "cell_type": "code",
      "metadata": {
        "id": "L3r2Cx1aLmhb"
      },
      "source": [
        "# visualize gif file\n",
        "def plot_gif(training_progress_images, plot_length=10):\n",
        "    plt.close()\n",
        "    fig = plt.figure()\n",
        "    \n",
        "    total_len = len(training_progress_images)\n",
        "    for i in range(plot_length):\n",
        "        im = plt.imshow(training_progress_images[int(total_len/plot_length)*i])\n",
        "        plt.show()"
      ],
      "execution_count": null,
      "outputs": []
    },
    {
      "cell_type": "code",
      "metadata": {
        "id": "yKc9bmu9Lmhe"
      },
      "source": [
        "def save_image_list(dataset, real):\n",
        "    if real:\n",
        "        base_path = './img/real'\n",
        "    else:\n",
        "        base_path = './img/fake'\n",
        "    \n",
        "    dataset_path = []\n",
        "    \n",
        "    for i in range(len(dataset)):\n",
        "        save_path =  f'{base_path}/image_{i}.png'\n",
        "        dataset_path.append(save_path)\n",
        "        vutils.save_image(dataset[i], save_path)\n",
        "    \n",
        "    return base_path"
      ],
      "execution_count": null,
      "outputs": []
    },
    {
      "cell_type": "markdown",
      "metadata": {
        "id": "sbhczwl3Lmhg"
      },
      "source": [
        "### 0.3. Prelim step 3: Load dataset, define dataloader"
      ]
    },
    {
      "cell_type": "markdown",
      "metadata": {
        "id": "BOIqzz4CLmhh"
      },
      "source": [
        "![picture](https://drive.google.com/uc?id=1kdig6RLSCvYJNqarbb8gviYsnxZfSkYQ)"
      ]
    },
    {
      "cell_type": "markdown",
      "metadata": {
        "id": "k8n3dIlPLmhi"
      },
      "source": [
        "\n",
        "In this class we will use **MNIST** (or you can use **Fashion-MNIST**) due to the time constraint :( \\\n",
        "You can practice with CIFAR-10 by your-self since dataset is already implemented inside PyTorch!\n",
        "- Simply use `dataset=dset.CIFAR10(.)` function in PyTorch.\n",
        "- If you are using CIFAR dataset, please note that the resolution is different to MNIST and should change model input dimension."
      ]
    },
    {
      "cell_type": "code",
      "metadata": {
        "id": "7X_5MpnDLmhi",
        "colab": {
          "base_uri": "https://localhost:8080/",
          "height": 417,
          "referenced_widgets": [
            "69b826796d654003a9e615430554c559",
            "a1445727c04543f1b8a9ffb31345f50c",
            "b046413f4a634cf19b303eb6586a6702",
            "0190456b8e584fb88f9ebcd43fe68af4",
            "1f8fa913f33a406bb4ec20ea30f78d96",
            "ff36621fe90140298cd4c0a9c2cc1ffb",
            "ee4a5be1dd9f4e5b884d18e3ac006ae1",
            "4c0466547d3941dd8b9bd81e399ce1cf",
            "ec5e96bb35fc4589abe24a7c34df86ad",
            "6685f5e6c28245e08ea9306c3997cea3",
            "a117ef1e526b42ac8cd7c5ca19f1ca44",
            "0d9a1853ccb14d04a39592edf44dbd1d",
            "631f175fca6446d687680b95fca9fe06",
            "da331d99f5b6457f86994638ba7a5b45",
            "f91f8dd1570e418da44210acb6df851a",
            "82a5557c260940d5a2a4f777762a1b42",
            "e4527f6df75f45a59e553d182f2fe70a",
            "047d3824377441359f6f495b19b71d70",
            "daa853ae07d046a7b1c646e38feb69ac",
            "74ad03721eaf4980acda48b8ea8507f6",
            "e1c66f61d1a94c3ba95b5a9bc12699c6",
            "18f0e5f079604422b571310d15f91c0f",
            "fa2261edf4f7497989168054a0315012",
            "dba4ba9ec3074a9980e3987971953add",
            "62083a227e63457f996dbc62ad195a57",
            "7da4d83c0d8f4907bf90ad67b82bc7b8",
            "af97ecf25cf2409cbadd98b523cf0e0f",
            "4c27d016018143009c6b7fb0e37de8b9",
            "6423538ed563454084f3269bc1b61c28",
            "d16585353f10412bb406051ff3d4cff3",
            "602f17978e2846888460b010fb8c40ea",
            "455afb93ee18436c9b8ca84a1f914d18"
          ]
        },
        "outputId": "dc2c2c1b-90ef-45b9-ecce-e1f3deec090a"
      },
      "source": [
        "dataset = dset.MNIST(root=\"./dataset\", download=True,\n",
        "                                   transform=transforms.Compose([\n",
        "                                   transforms.ToTensor(),\n",
        "                ]))\n",
        "# If you want to download FMNIST use dset.FashionMNIST\n",
        "# dataset = dset.FashionMNIST(.)\n",
        "\n",
        "dataloader = torch.utils.data.DataLoader(dataset, batch_size=128, shuffle=True, num_workers=2)"
      ],
      "execution_count": null,
      "outputs": [
        {
          "output_type": "stream",
          "text": [
            "Downloading http://yann.lecun.com/exdb/mnist/train-images-idx3-ubyte.gz to ./dataset/MNIST/raw/train-images-idx3-ubyte.gz\n"
          ],
          "name": "stdout"
        },
        {
          "output_type": "display_data",
          "data": {
            "application/vnd.jupyter.widget-view+json": {
              "model_id": "69b826796d654003a9e615430554c559",
              "version_minor": 0,
              "version_major": 2
            },
            "text/plain": [
              "HBox(children=(FloatProgress(value=1.0, bar_style='info', max=1.0), HTML(value='')))"
            ]
          },
          "metadata": {
            "tags": []
          }
        },
        {
          "output_type": "stream",
          "text": [
            "Extracting ./dataset/MNIST/raw/train-images-idx3-ubyte.gz to ./dataset/MNIST/raw\n",
            "Downloading http://yann.lecun.com/exdb/mnist/train-labels-idx1-ubyte.gz to ./dataset/MNIST/raw/train-labels-idx1-ubyte.gz\n"
          ],
          "name": "stdout"
        },
        {
          "output_type": "display_data",
          "data": {
            "application/vnd.jupyter.widget-view+json": {
              "model_id": "ec5e96bb35fc4589abe24a7c34df86ad",
              "version_minor": 0,
              "version_major": 2
            },
            "text/plain": [
              "HBox(children=(FloatProgress(value=1.0, bar_style='info', max=1.0), HTML(value='')))"
            ]
          },
          "metadata": {
            "tags": []
          }
        },
        {
          "output_type": "stream",
          "text": [
            "Extracting ./dataset/MNIST/raw/train-labels-idx1-ubyte.gz to ./dataset/MNIST/raw\n",
            "Downloading http://yann.lecun.com/exdb/mnist/t10k-images-idx3-ubyte.gz to ./dataset/MNIST/raw/t10k-images-idx3-ubyte.gz\n"
          ],
          "name": "stdout"
        },
        {
          "output_type": "display_data",
          "data": {
            "application/vnd.jupyter.widget-view+json": {
              "model_id": "e4527f6df75f45a59e553d182f2fe70a",
              "version_minor": 0,
              "version_major": 2
            },
            "text/plain": [
              "HBox(children=(FloatProgress(value=1.0, bar_style='info', max=1.0), HTML(value='')))"
            ]
          },
          "metadata": {
            "tags": []
          }
        },
        {
          "output_type": "stream",
          "text": [
            "Extracting ./dataset/MNIST/raw/t10k-images-idx3-ubyte.gz to ./dataset/MNIST/raw\n",
            "Downloading http://yann.lecun.com/exdb/mnist/t10k-labels-idx1-ubyte.gz to ./dataset/MNIST/raw/t10k-labels-idx1-ubyte.gz\n",
            "\n",
            "\n"
          ],
          "name": "stdout"
        },
        {
          "output_type": "display_data",
          "data": {
            "application/vnd.jupyter.widget-view+json": {
              "model_id": "62083a227e63457f996dbc62ad195a57",
              "version_minor": 0,
              "version_major": 2
            },
            "text/plain": [
              "HBox(children=(FloatProgress(value=1.0, bar_style='info', max=1.0), HTML(value='')))"
            ]
          },
          "metadata": {
            "tags": []
          }
        },
        {
          "output_type": "stream",
          "text": [
            "Extracting ./dataset/MNIST/raw/t10k-labels-idx1-ubyte.gz to ./dataset/MNIST/raw\n",
            "Processing...\n",
            "Done!\n"
          ],
          "name": "stdout"
        },
        {
          "output_type": "stream",
          "text": [
            "/usr/local/lib/python3.6/dist-packages/torchvision/datasets/mnist.py:469: UserWarning: The given NumPy array is not writeable, and PyTorch does not support non-writeable tensors. This means you can write to the underlying (supposedly non-writeable) NumPy array using the tensor. You may want to copy the array to protect its data or make it writeable before converting it to a tensor. This type of warning will be suppressed for the rest of this program. (Triggered internally at  /pytorch/torch/csrc/utils/tensor_numpy.cpp:141.)\n",
            "  return torch.from_numpy(parsed.astype(m[2], copy=False)).view(*s)\n"
          ],
          "name": "stderr"
        }
      ]
    },
    {
      "cell_type": "markdown",
      "metadata": {
        "id": "0Bbvy752Lmhl"
      },
      "source": [
        "## 1. Define your generator & discriminator"
      ]
    },
    {
      "cell_type": "markdown",
      "metadata": {
        "id": "IqhlFJM1Lmhm"
      },
      "source": [
        "### 1.1. Define generator module"
      ]
    },
    {
      "cell_type": "code",
      "metadata": {
        "id": "mDZCwH5VLmhm"
      },
      "source": [
        "class Generator(nn.Module):\n",
        "    def __init__(self):\n",
        "        super(Generator, self).__init__()\n",
        "        self.main = nn.Sequential(\n",
        "            #########################\n",
        "            # Define your own generator # \n",
        "            #########################\n",
        "            \n",
        "            \n",
        "            #########################\n",
        "        )\n",
        "\n",
        "    def forward(self, input):\n",
        "        #####################################\n",
        "        # Change the shape of output if necessary #\n",
        "        \n",
        "        #####################################\n",
        "        \n",
        "        output = self.main(input)\n",
        "        \n",
        "        #####################################\n",
        "        # Change the shape of output if necessary #\n",
        "        \n",
        "        #####################################\n",
        "        return output"
      ],
      "execution_count": null,
      "outputs": []
    },
    {
      "cell_type": "markdown",
      "metadata": {
        "id": "jugQEor-Lmhp"
      },
      "source": [
        "### 1.2. Define discriminator module"
      ]
    },
    {
      "cell_type": "code",
      "metadata": {
        "id": "_SWtREm-Lmhq"
      },
      "source": [
        "class Discriminator(nn.Module):\n",
        "    def __init__(self):\n",
        "        super(Discriminator, self).__init__()\n",
        "        self.main = nn.Sequential(\n",
        "            ############################\n",
        "            # Define your own discriminator #\n",
        "            ############################\n",
        "            \n",
        "            \n",
        "            ############################\n",
        "        )\n",
        "\n",
        "    def forward(self, input):\n",
        "        #####################################\n",
        "        # Change the shape of output if necessary #\n",
        "    \n",
        "        #####################################\n",
        "        \n",
        "        output = self.main(input)\n",
        "        \n",
        "        #####################################\n",
        "        # Change the shape of output if necessary #\n",
        "        \n",
        "        #####################################\n",
        "        \n",
        "        return output"
      ],
      "execution_count": null,
      "outputs": []
    },
    {
      "cell_type": "markdown",
      "metadata": {
        "id": "VO3Rlgg5Lmht"
      },
      "source": [
        "### 1.3. Upload on GPU, define optimizer"
      ]
    },
    {
      "cell_type": "code",
      "metadata": {
        "id": "62dPkdzeLmhu"
      },
      "source": [
        "netG = Generator().cuda()\n",
        "netD = Discriminator().cuda()\n",
        "\n",
        "optimizerD = optim.Adam(netD.parameters(), lr=0.0002)\n",
        "optimizerG = optim.Adam(netG.parameters(), lr=0.0002)"
      ],
      "execution_count": null,
      "outputs": []
    },
    {
      "cell_type": "markdown",
      "metadata": {
        "id": "fbl7kZltLmhw"
      },
      "source": [
        "## 2. Noise sampling"
      ]
    },
    {
      "cell_type": "code",
      "metadata": {
        "id": "fI-DDgJoLmhx"
      },
      "source": [
        "#### Implement here ####\n",
        "noise = ?"
      ],
      "execution_count": null,
      "outputs": []
    },
    {
      "cell_type": "markdown",
      "metadata": {
        "id": "S1V3YX9gLmh0"
      },
      "source": [
        "## 3. Train GAN"
      ]
    },
    {
      "cell_type": "markdown",
      "metadata": {
        "id": "aq7S6r1xLmh0"
      },
      "source": [
        "Implement GAN by filling out the following blankes!"
      ]
    },
    {
      "cell_type": "code",
      "metadata": {
        "id": "QbVx5jRqLmh1"
      },
      "source": [
        "fixed_noise = ?\n",
        "\n",
        "criterion = nn.BCELoss()\n",
        "\n",
        "n_epoch = 200\n",
        "training_progress_images_list = []\n",
        "for epoch in range(n_epoch):\n",
        "    for i, (data, _) in enumerate(dataloader):\n",
        "        ####################################################\n",
        "        # (1) Update D network: maximize log(D(x)) + log(1 - D(G(z))) #\n",
        "        ###################################################\n",
        "        # train with real\n",
        "        netD.zero_grad()\n",
        "        data = data.cuda()\n",
        "        batch_size = data.size(0)\n",
        "        \n",
        "        label = ? # real label \n",
        "        output = ?\n",
        "        errD_real = ?\n",
        "\n",
        "        # train with fake\n",
        "        noise = ?\n",
        "        fake = ?\n",
        "        label = ? # fake label\n",
        "        output = ?\n",
        "        errD_fake = ?\n",
        "        \n",
        "        # Loss backward\n",
        "        errD = errD_real + errD_fake\n",
        "        errD.backward()\n",
        "        optimizerD.step()\n",
        "\n",
        "        ########################################\n",
        "        # (2) Update G network: maximize log(D(G(z))) #\n",
        "        ########################################\n",
        "        netG.zero_grad()\n",
        "        label = ? # fake labels are real for generator cost\n",
        "        output = ?\n",
        "        errG = ?\n",
        "\n",
        "        errG.backward()\n",
        "        optimizerG.step()\n",
        "        \n",
        "    print('[%d/%d] Loss_D: %.4f Loss_G: %.4f' \n",
        "              % (epoch, n_epoch, errD.item(), errG.item()))\n",
        "    \n",
        "    #save the output\n",
        "    fake = netG(fixed_noise)\n",
        "    training_progress_images_list = save_gif(training_progress_images_list, fake)  # Save fake image while training!\n",
        "    \n",
        "    # Check pointing for every epoch\n",
        "    torch.save(netG.state_dict(), './checkpoint/netG_epoch_%d.pth' % (epoch))\n",
        "    torch.save(netD.state_dict(), './checkpoint/netD_epoch_%d.pth' % (epoch))"
      ],
      "execution_count": null,
      "outputs": []
    },
    {
      "cell_type": "markdown",
      "metadata": {
        "id": "PUXLRpI-Lmh4"
      },
      "source": [
        "## 4. Visualize/Plot your generated samples"
      ]
    },
    {
      "cell_type": "code",
      "metadata": {
        "id": "yLglHYpYLmh5"
      },
      "source": [
        "#vis_gif(training_progress_images_list)\n",
        "plot_gif(training_progress_images_list)"
      ],
      "execution_count": null,
      "outputs": []
    },
    {
      "cell_type": "markdown",
      "metadata": {
        "id": "CpG4IVneLmh8"
      },
      "source": [
        "## 5. Evaluate your model: Fréchet Inception Distance (FID) score"
      ]
    },
    {
      "cell_type": "markdown",
      "metadata": {
        "id": "Sol6h2_NLmh8"
      },
      "source": [
        "How to evaluate the equality of your generated sample?\\\n",
        "Maybe **training loss...? No!**\n",
        "Papers have shown that training loss might not be the best metric!\n",
        "\n",
        "There are many evaluation metric that has been proposed and most famous metric is as follows: [**Inception score**](https://arxiv.org/abs/1606.03498), [**Fréchet Inception Distance**](https://arxiv.org/abs/1706.08500)\n",
        "\n",
        "In this course, we will handle **Fréchet Inception Distance (FID) score.**"
      ]
    },
    {
      "cell_type": "markdown",
      "metadata": {
        "id": "VblcMxkxLmh9"
      },
      "source": [
        "### 5.1. What is FID score?"
      ]
    },
    {
      "cell_type": "markdown",
      "metadata": {
        "id": "vWJ1-hKTLmh9"
      },
      "source": [
        "FID measures the distance between **real dataset** & **fake dataset** in **feature space of Inception** pretrained network.\\\n",
        "From the extracted features of real & fake dataset, we can compute mean & covariance of each features to calculate the **distance between distributions**.\n",
        "- For more explanation see this [article](https://medium.com/@jonathan_hui/gan-how-to-measure-gan-performance-64b988c47732) or [paper](https://arxiv.org/abs/1706.08500)"
      ]
    },
    {
      "cell_type": "markdown",
      "metadata": {
        "id": "qmnhqavULmh-"
      },
      "source": [
        "For the implementation, we simply use the source code from github: https://github.com/mseitzer/pytorch-fid\n",
        "\n",
        "Please note that Inception network is **pretrained on ImageNet**, therefore the MNIST FID score might be unrealiable.\\"
      ]
    },
    {
      "cell_type": "markdown",
      "metadata": {
        "id": "s4mPT-KWLmh-"
      },
      "source": [
        "### 5.2. Load FID score function: code is from the github"
      ]
    },
    {
      "cell_type": "code",
      "metadata": {
        "id": "gktoCxzuLmh_"
      },
      "source": [
        "!wget --no-check-certificate 'https://docs.google.com/uc?export=download&id=1InzR1qylS3Air4IvpS9CoamqJ0r9bqQg' -O inception.py"
      ],
      "execution_count": null,
      "outputs": []
    },
    {
      "cell_type": "code",
      "metadata": {
        "id": "LorzfycuLmiB"
      },
      "source": [
        "!wget --no-check-certificate 'https://docs.google.com/uc?export=download&id=1AtTxnuasIaSTTmI9MI7k8ugY8KJ1cw3Y' -O fid_score.py"
      ],
      "execution_count": null,
      "outputs": []
    },
    {
      "cell_type": "code",
      "metadata": {
        "id": "iOz3Tx_qLmiD"
      },
      "source": [
        "from fid_score import calculate_fid_given_paths  # The code is downloaded from github"
      ],
      "execution_count": null,
      "outputs": []
    },
    {
      "cell_type": "markdown",
      "metadata": {
        "id": "HxXvQfYnLmiG"
      },
      "source": [
        "### 5.3. Evaluate your model (save samples!!)\n",
        "\n",
        "The Inception network's input resolution is 224 by 224, we upscale small resolution datasets (e.g., MNSIT, CIFAR) into same resolution.\n",
        "\n",
        "Please note that, we only save *50 samples in this lecture*, however in practice we use **full test dataset**: [reference](https://arxiv.org/abs/1807.04720)"
      ]
    },
    {
      "cell_type": "code",
      "metadata": {
        "id": "qkK6Xw-MLmiG"
      },
      "source": [
        "test_dataset = dset.MNIST(root=\"./dataset\", download=True, train=False,\n",
        "                                           transform=transforms.Compose([\n",
        "                                           transforms.ToTensor(),\n",
        "                        ]))\n",
        "\n",
        "dataloader = torch.utils.data.DataLoader(test_dataset, batch_size=50, shuffle=True, num_workers=2)\n",
        "\n",
        "for i, (data, _) in enumerate(dataloader):\n",
        "    real_dataset = data\n",
        "    break\n",
        "    \n",
        "noise = torch.randn(50, 100).cuda()\n",
        "fake_dataset = netG(noise)"
      ],
      "execution_count": null,
      "outputs": []
    },
    {
      "cell_type": "code",
      "metadata": {
        "id": "_YbcViM1LmiJ"
      },
      "source": [
        "real_image_path_list = save_image_list(real_dataset, True)\n",
        "fake_image_path_list = save_image_list(fake_dataset, False)"
      ],
      "execution_count": null,
      "outputs": []
    },
    {
      "cell_type": "markdown",
      "metadata": {
        "id": "esf9XKGDLmiQ"
      },
      "source": [
        "### 5.4 Evaluate FID score"
      ]
    },
    {
      "cell_type": "code",
      "metadata": {
        "id": "uFE9gdOELmiR"
      },
      "source": [
        "# calculate_fid_given_paths(paths, batch_size, cuda, dims)\n",
        "fid_value = calculate_fid_given_paths([real_image_path_list, fake_image_path_list],\n",
        "                                                          50, \n",
        "                                                          True,\n",
        "                                                          2048)"
      ],
      "execution_count": null,
      "outputs": []
    },
    {
      "cell_type": "code",
      "metadata": {
        "id": "vZQQfpUbLmiT"
      },
      "source": [
        "print (f'FID score: {fid_value}')"
      ],
      "execution_count": null,
      "outputs": []
    },
    {
      "cell_type": "markdown",
      "metadata": {
        "id": "m6lDR3wDLmiV"
      },
      "source": [
        "## Additional: DCGAN (try it by your-self)"
      ]
    },
    {
      "cell_type": "markdown",
      "metadata": {
        "id": "FZfdQCb0LmiW"
      },
      "source": [
        "There are various modern architectures of GAN e.g., DCGAN, SNGAN, and also training methods e.g., WGAN, gradient penulty\n",
        "\n",
        "You can try the following architecture to improve the quality of generation!\n",
        "- **Note that this version is for 64 by 64 resolution**"
      ]
    },
    {
      "cell_type": "code",
      "metadata": {
        "id": "1zjHaU_8LmiW"
      },
      "source": [
        "nc = 3 # number of channels, RGB\n",
        "nz = 100 # input noise dimension\n",
        "ngf = 64 # number of generator filters\n",
        "ndf = 64 #number of discriminator filters\n",
        "\n",
        "class Generator(nn.Module):\n",
        "    def __init__(self):\n",
        "        super(Generator, self).__init__()\n",
        "        self.main = nn.Sequential(\n",
        "            # input is Z, going into a convolution\n",
        "            nn.ConvTranspose2d(nz, ngf * 8, 4, 1, 0, bias=False),\n",
        "            nn.BatchNorm2d(ngf * 8),\n",
        "            nn.ReLU(True),\n",
        "            # state size. (ngf*8) x 4 x 4\n",
        "            nn.ConvTranspose2d(ngf * 8, ngf * 4, 4, 2, 1, bias=False),\n",
        "            nn.BatchNorm2d(ngf * 4),\n",
        "            nn.ReLU(True),\n",
        "            # state size. (ngf*4) x 8 x 8\n",
        "            nn.ConvTranspose2d(ngf * 4, ngf * 2, 4, 2, 1, bias=False),\n",
        "            nn.BatchNorm2d(ngf * 2),\n",
        "            nn.ReLU(True),\n",
        "            # state size. (ngf*2) x 16 x 16\n",
        "            nn.ConvTranspose2d(ngf * 2, ngf, 4, 2, 1, bias=False),\n",
        "            nn.BatchNorm2d(ngf),\n",
        "            nn.ReLU(True),\n",
        "            # state size. (ngf) x 32 x 32\n",
        "            nn.ConvTranspose2d(ngf, nc, 4, 2, 1, bias=False),\n",
        "            nn.Tanh()\n",
        "            # state size. (nc) x 64 x 64\n",
        "        )\n",
        "\n",
        "    def forward(self, input):\n",
        "        output = self.main(input)\n",
        "        return output"
      ],
      "execution_count": null,
      "outputs": []
    },
    {
      "cell_type": "code",
      "metadata": {
        "id": "aZcS08mnLmiY"
      },
      "source": [
        "class Discriminator(nn.Module):\n",
        "    def __init__(self):\n",
        "        super(Discriminator, self).__init__()\n",
        "        self.main = nn.Sequential(\n",
        "            # input is (nc) x 64 x 64\n",
        "            nn.Conv2d(nc, ndf, 4, 2, 1, bias=False),\n",
        "            nn.LeakyReLU(0.2, inplace=True),\n",
        "            # state size. (ndf) x 32 x 32\n",
        "            nn.Conv2d(ndf, ndf * 2, 4, 2, 1, bias=False),\n",
        "            nn.BatchNorm2d(ndf * 2),\n",
        "            nn.LeakyReLU(0.2, inplace=True),\n",
        "            # state size. (ndf*2) x 16 x 16\n",
        "            nn.Conv2d(ndf * 2, ndf * 4, 4, 2, 1, bias=False),\n",
        "            nn.BatchNorm2d(ndf * 4),\n",
        "            nn.LeakyReLU(0.2, inplace=True),\n",
        "            # state size. (ndf*4) x 8 x 8\n",
        "            nn.Conv2d(ndf * 4, ndf * 8, 4, 2, 1, bias=False),\n",
        "            nn.BatchNorm2d(ndf * 8),\n",
        "            nn.LeakyReLU(0.2, inplace=True),\n",
        "            # state size. (ndf*8) x 4 x 4\n",
        "            nn.Conv2d(ndf * 8, 1, 4, 1, 0, bias=False),\n",
        "            nn.Sigmoid()\n",
        "        )\n",
        "\n",
        "    def forward(self, input):\n",
        "        output = self.main(input)\n",
        "        return output.view(-1, 1).squeeze(1)"
      ],
      "execution_count": null,
      "outputs": []
    },
    {
      "cell_type": "markdown",
      "metadata": {
        "id": "Yq2ZLaSsLmib"
      },
      "source": [
        "## Reference\n",
        "\n",
        "PyTorch official DCGAN tutorial: https://pytorch.org/tutorials/beginner/dcgan_faces_tutorial.html \\\n",
        "github 1: https://github.com/Ksuryateja/DCGAN-CIFAR10-pytorch/blob/master/gan_cifar.py \\\n",
        "github 2: https://github.com/mseitzer/pytorch-fid \\\n",
        "FID score: https://github.com/mseitzer/pytorch-fid \\\n",
        "Inception score: https://github.com/sbarratt/inception-score-pytorch"
      ]
    }
  ]
}